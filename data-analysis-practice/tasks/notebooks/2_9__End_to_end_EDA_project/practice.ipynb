{
 "cells": [
  {
   "cell_type": "code",
   "execution_count": null,
   "id": "839249ba-d424-4a0e-89de-7b565de25a41",
   "metadata": {},
   "outputs": [],
   "source": [
    "import pandas as pd\n",
    "import numpy as np\n",
    "import seaborn as sns\n",
    "import matplotlib.pyplot as plt\n",
    "%matplotlib inline"
   ]
  },
  {
   "cell_type": "markdown",
   "id": "ce94c1e4-0f0c-41ab-b4fe-2a5a42bc1792",
   "metadata": {},
   "source": [
    "# First look"
   ]
  },
  {
   "cell_type": "markdown",
   "id": "2a3929a3-c927-4999-94bd-959c0631eb39",
   "metadata": {},
   "source": [
    "Start exploring by reading the source data from a CSV file."
   ]
  },
  {
   "cell_type": "code",
   "execution_count": null,
   "id": "c23e4372-b45f-4be3-b62a-ed06fc0cc021",
   "metadata": {},
   "outputs": [],
   "source": [
    "df = pd.read_csv('source_files/diamonds_to_share.csv.zip')\n",
    "df.head()"
   ]
  },
  {
   "cell_type": "markdown",
   "id": "5919471e-23f9-4873-a0ec-49d8aa7f0eb7",
   "metadata": {},
   "source": [
    "How many rows and columns are there in the table?"
   ]
  },
  {
   "cell_type": "code",
   "execution_count": null,
   "id": "901ac373-15cb-4c7e-a7f0-d76894e60478",
   "metadata": {},
   "outputs": [],
   "source": [
    "# <YOUR CODE>"
   ]
  },
  {
   "cell_type": "markdown",
   "id": "c9aef9cb-fcc9-4846-8c18-c9843d23fe30",
   "metadata": {},
   "source": [
    "What are the names of the columns in the table?"
   ]
  },
  {
   "cell_type": "code",
   "execution_count": null,
   "id": "3303fb1f-f6b7-442f-b470-04d7a1ec077f",
   "metadata": {},
   "outputs": [],
   "source": [
    "# <YOUR CODE>"
   ]
  },
  {
   "cell_type": "markdown",
   "id": "73461c91-1f9f-483a-a366-a4156e60a4c0",
   "metadata": {},
   "source": [
    "Please remove redundant columns, starting with from \"Unnamed\"."
   ]
  },
  {
   "cell_type": "code",
   "execution_count": null,
   "id": "b06778f0-9333-4076-add3-b22e34a07e69",
   "metadata": {},
   "outputs": [],
   "source": [
    "# <YOUR CODE>\n",
    "df.columns"
   ]
  },
  {
   "cell_type": "markdown",
   "id": "3995dde1-fd5b-4914-800d-471b9d435213",
   "metadata": {},
   "source": [
    "What types of columns are there in the table?"
   ]
  },
  {
   "cell_type": "code",
   "execution_count": null,
   "id": "ef21014e-a08e-4a36-b02c-aa0c7a800bae",
   "metadata": {},
   "outputs": [],
   "source": [
    "# <YOUR CODE>"
   ]
  },
  {
   "cell_type": "markdown",
   "id": "1d921cb2-f963-4bfa-a92f-aee5fdab8347",
   "metadata": {},
   "source": [
    "Please split columns into two lists: columns of *numerical types* and columns of *categorical types*.\n",
    "\n",
    "*HINT:* use the `select_dtypes` function to do this."
   ]
  },
  {
   "cell_type": "code",
   "execution_count": null,
   "id": "25df49a2-cbad-468c-b5ce-24dbacb5cb6a",
   "metadata": {},
   "outputs": [],
   "source": [
    "# <YOUR CODE>\n",
    "# numerical_cols = ...\n",
    "# categorical_cols = ...\n",
    "print('Numerical columns:', numerical_cols)\n",
    "print('Categorical columns:', categorical_cols)"
   ]
  },
  {
   "cell_type": "markdown",
   "id": "aaad95aa-61fe-43a7-8a61-783d73e03c27",
   "metadata": {},
   "source": [
    "# Outliers"
   ]
  },
  {
   "cell_type": "markdown",
   "id": "5233c4c2-6109-4ff7-9bed-0ef776434430",
   "metadata": {},
   "source": [
    "Outliers are extremely large or small numerical values that are not typical for a particular variable in a dataset.\n",
    "\n",
    "Generally speaking, there is no strict definition of an outlier. This means that an outlier can be defined differently for each dataset or even for each variable in the same dataset.\n",
    "\n",
    "However, **boxplots** are quite often used to detect outliers. The rule of thumb says that any value outside of a range defined by the whiskers of a boxplot can be considered an outlier. In turn, whiskers are defined using quantiles as follows:\n",
    "$$\n",
    "[Q1 - 1.5 \\cdot IQR,\\; Q3 + 1.5 \\cdot IQR]\n",
    "$$\n",
    "where $IQR = Q3 - Q1$ is the interquartile range, $Q1$ is the 0.25 quantile (the first quartile), and $Q3$ is the 0.75 quantile (the third quartile).\n",
    "\n",
    "Nevertheless this rule is not universal as you will see below."
   ]
  },
  {
   "cell_type": "markdown",
   "id": "fd261e2a-3541-45c0-a6f7-ac2d2acdef7e",
   "metadata": {},
   "source": [
    "Please make a boxplot of each numerical column by implementing the function in the cell below."
   ]
  },
  {
   "cell_type": "code",
   "execution_count": null,
   "id": "4ec0a2f6-fc0a-4774-a1ca-9bb5d5b60fc6",
   "metadata": {},
   "outputs": [],
   "source": [
    "def make_boxplots(df, numerical_cols, figsize=(12, 5)):\n",
    "    # Create a subplot for each numerical column within a single row.\n",
    "    fig, axes = plt.subplots(nrows=1, ncols=len(numerical_cols), figsize=figsize)\n",
    "\n",
    "    for ax, col in zip(axes, numerical_cols):\n",
    "        # <YOUR CODE>\n",
    "    \n",
    "    plt.tight_layout()"
   ]
  },
  {
   "cell_type": "code",
   "execution_count": null,
   "id": "328cee54-04f0-409a-9d6d-14e572fd7eed",
   "metadata": {},
   "outputs": [],
   "source": [
    "make_boxplots(df, numerical_cols)"
   ]
  },
  {
   "cell_type": "markdown",
   "id": "3af10676-7460-4b47-9a74-fe83d59ae494",
   "metadata": {},
   "source": [
    "Based on the graph above, answer the following questions:\n",
    "\n",
    "1. Which numerical variables are most affected by outliers and how do you know this?\n",
    "2. Which variables suffer most from large outliers, small outliers or both?\n",
    "\n",
    "**Answer:** < YOUR ANSWER >"
   ]
  },
  {
   "cell_type": "markdown",
   "id": "b392fd76-8693-43b7-96c8-ea3205e93a1d",
   "metadata": {},
   "source": [
    "*You might ask*: Why do I need to define outliers at such an early stage?\n",
    "\n",
    "To answer this question, plot two histograms of the price variable:\n",
    "1. The first histogram shows the distribution of **all** price values.\n",
    "2. The second histogram shows the distribution of price values that are **lower than 1B**."
   ]
  },
  {
   "cell_type": "code",
   "execution_count": null,
   "id": "32596dd9-13e7-4e8c-99ed-856613ca480a",
   "metadata": {},
   "outputs": [],
   "source": [
    "fig, (ax1, ax2) = plt.subplots(nrows=1, ncols=2, figsize=(12, 4))\n",
    "ax1.set_title('Histogram of price with outliers')\n",
    "ax2.set_title('Histogram of price w/o outliers')\n",
    "\n",
    "df['price'].plot.hist(ax=ax1)\n",
    "df.query('price < 1000000')['price'].plot.hist(ax=ax2)"
   ]
  },
  {
   "cell_type": "markdown",
   "id": "fc4af5b0-dbae-4768-999a-a47d0dffb84c",
   "metadata": {},
   "source": [
    "Which plot looks more informative? (Answer yourself. There is no need to write your thoughts down here.)"
   ]
  },
  {
   "cell_type": "markdown",
   "id": "7ba83b0f-6004-4244-a6da-7629eee208ee",
   "metadata": {},
   "source": [
    "Now, develop code that filters out outliers from the dataset.\n",
    "\n",
    "**IMPORTANT!** Please explain how you define an outlier either in docstrings of your functions, code comments, or a separate markdown cell."
   ]
  },
  {
   "cell_type": "code",
   "execution_count": null,
   "id": "36145d8e-2041-44ad-b16d-6890e045fcb4",
   "metadata": {},
   "outputs": [],
   "source": [
    "# <YOUR CODE>: functions for filtering outliers"
   ]
  },
  {
   "cell_type": "code",
   "execution_count": null,
   "id": "7fecb50c-d45d-4b02-846e-9c7a40629bac",
   "metadata": {},
   "outputs": [],
   "source": [
    "print(df.shape)\n",
    "\n",
    "# <YOUR CODE>: apply a function that filters outliers\n",
    "# df = df[...]\n",
    "\n",
    "print(df.shape)"
   ]
  },
  {
   "cell_type": "markdown",
   "id": "d9f3c7c2-f867-43c9-89c3-2de495c5ed38",
   "metadata": {},
   "source": [
    "Finally, check to see how the boxplots changed after removing the outliers.\n",
    "\n",
    "**NOTE** that there is a tradeoff between removing too many outliers and removing too few of them:\n",
    "- Removing too many outliers significantly reduces the size of the available dataset\n",
    "- Removing too few outliers keeps more noise in the data and makes analysis more complicated\n",
    "\n",
    "If you feel that the tradeoff is broken, you can return to the previous cells and either relax your filtering conditions or make them more restrictive.\n",
    "\n",
    "Remember that there is no one perfect solution for outliers, and that's why **we ask you to provide comments** to make it easier for us to understand your logic and evaluate the results."
   ]
  },
  {
   "cell_type": "code",
   "execution_count": null,
   "id": "36708ddc-3177-4afe-8e87-83d21757ad90",
   "metadata": {},
   "outputs": [],
   "source": [
    "make_boxplots(df, numerical_cols)"
   ]
  },
  {
   "cell_type": "markdown",
   "id": "4bb8f3db-599f-40a7-9359-e527a0063f69",
   "metadata": {},
   "source": [
    "# Missing values"
   ]
  },
  {
   "cell_type": "markdown",
   "id": "3aba4434-6fec-4928-92cd-3c213f96e26f",
   "metadata": {},
   "source": [
    "Please count the number of missing values in each column"
   ]
  },
  {
   "cell_type": "code",
   "execution_count": null,
   "id": "f62224fb-6d76-4665-bf28-45bdccb14c6c",
   "metadata": {},
   "outputs": [],
   "source": [
    "# <YOUR CODE>"
   ]
  },
  {
   "cell_type": "markdown",
   "id": "71a85cb0-ac15-4ee0-8b97-2e8a29147e98",
   "metadata": {},
   "source": [
    "Which of the columns contain missing values?\n",
    "\n",
    "**Answer:** < YOUR ANSWER >"
   ]
  },
  {
   "cell_type": "markdown",
   "id": "262c99a1-d9fe-46de-946a-1847053f953d",
   "metadata": {},
   "source": [
    "Now modify your code so that it shows not absolute numbers, but percentages of missing values in columns"
   ]
  },
  {
   "cell_type": "code",
   "execution_count": null,
   "id": "8a5222ec-0163-4275-8ff8-95c6a488f98c",
   "metadata": {},
   "outputs": [],
   "source": [
    "# <YOUR CODE>"
   ]
  },
  {
   "cell_type": "markdown",
   "id": "bebd6962-a088-4553-80c7-f2f15947a7a5",
   "metadata": {},
   "source": [
    "Missing values in the dataset can be handled in various ways (depending on how many there are or their importance):\n",
    "\n",
    "- Just ignore\n",
    "- Dropped them along with the rows containing them\n",
    "- Imputed with a constant (e.g., \"N/A\", 0, etc.)\n",
    "- Imputed with some statistic over the data (e.g., median or mean)\n",
    "- Etc.\n",
    "\n",
    "For now, simply drop any row that contains at least one missing value."
   ]
  },
  {
   "cell_type": "code",
   "execution_count": null,
   "id": "7760a4fa-4b97-46d7-b7a5-a1de1c43304d",
   "metadata": {},
   "outputs": [],
   "source": [
    "print(df.shape)\n",
    "# <YOUR CODE>\n",
    "# df = df[...]\n",
    "print(df.shape)"
   ]
  },
  {
   "cell_type": "markdown",
   "id": "63b64579-8616-4b5e-a6cf-497ad159d3a7",
   "metadata": {},
   "source": [
    "# Duplicates"
   ]
  },
  {
   "cell_type": "markdown",
   "id": "43933aa6-a702-4c0e-a173-b85beb019ce1",
   "metadata": {},
   "source": [
    "Real-world datasets can contain duplicate records that ideally should be removed.\n",
    "\n",
    "Count how many duplicates the dataset contains.\n",
    "\n",
    "*HINT*: You might want to consider the function `duplicated` for this exercise. "
   ]
  },
  {
   "cell_type": "code",
   "execution_count": null,
   "id": "17fc54f7-345a-4a53-8ad0-febd7792fd84",
   "metadata": {},
   "outputs": [],
   "source": [
    "# <YOUR CODE>"
   ]
  },
  {
   "cell_type": "markdown",
   "id": "d7e50efe-dc86-4a52-92fa-76e790fb84d5",
   "metadata": {},
   "source": [
    "Please drop the duplicates in the dataset to make it cleaner."
   ]
  },
  {
   "cell_type": "code",
   "execution_count": null,
   "id": "b9641998-0197-4ffb-8c52-ae00b86f5923",
   "metadata": {},
   "outputs": [],
   "source": [
    "print(df.shape)\n",
    "# <YOUR CODE>\n",
    "# df = ...\n",
    "print(df.shape)"
   ]
  },
  {
   "cell_type": "markdown",
   "id": "3d8f54fc-60ce-47db-90eb-627e279ef7ba",
   "metadata": {},
   "source": [
    "# Univariate analysis"
   ]
  },
  {
   "cell_type": "markdown",
   "id": "04ad60c4-609a-48c6-a681-ba498e408f43",
   "metadata": {},
   "source": [
    "In this section, you will plot the distribution of every single variable in the dataset.\n",
    "\n",
    "**Important note #1**. To make your plots readable, please adhere to the following recommendations:\n",
    "1. Both the x and y-axes should be labeled.\n",
    "2. Gridlines should be displayed in the background.\n",
    "3. A plot should have a title (This is not mandatory if item #1 is done, but it's nice to do it anyway).\n",
    "\n",
    "**Important note #2**. Below, you will see sections with questions to answer. Please don't forget to post your answers.<br>\n",
    "The conclusions you will make based on your charts are even *more important* than the charts themselves.\n",
    "\n",
    "Start with categorical variables."
   ]
  },
  {
   "cell_type": "markdown",
   "id": "6c4eabf9-2035-44e4-9f60-22b11ba955bd",
   "metadata": {},
   "source": [
    "## Categorical variables"
   ]
  },
  {
   "cell_type": "markdown",
   "id": "59984bbe-8fad-4774-92aa-df36fccf4b7f",
   "metadata": {},
   "source": [
    "Recall what categorical variables are present in the dataset."
   ]
  },
  {
   "cell_type": "code",
   "execution_count": null,
   "id": "f33e0f84-4a71-4454-8edb-49273b5d36c6",
   "metadata": {},
   "outputs": [],
   "source": [
    "categorical_cols"
   ]
  },
  {
   "cell_type": "markdown",
   "id": "427385d2-0844-40f8-977e-de46eb6b8b05",
   "metadata": {},
   "source": [
    "In this section, for each categorical variable you should count its unique values and display them using a [**bar chart**](https://en.wikipedia.org/wiki/Bar_chart).\n",
    "\n",
    "Please implement the function below and apply it to each categorical variable in the subsections below."
   ]
  },
  {
   "cell_type": "code",
   "execution_count": null,
   "id": "e82712b3-9179-428e-a1e7-6aabfbbcfa37",
   "metadata": {},
   "outputs": [],
   "source": [
    "def countplot(df, col, order=None, figsize=(6, 4)):\n",
    "    \"\"\"\n",
    "    Plot the numbers of unique values in each categorical variable using a bar chart.\n",
    "    If the parameter `order` is specified, it is a list of unique values that\n",
    "    specifies the order in which the respective bars should be displayed.\n",
    "    Please use the name of the variable as the title of the chart.\n",
    "    \"\"\"\n",
    "    fig, ax = plt.subplots(figsize=figsize)\n",
    "    # <YOUR CODE>\n",
    "\n",
    "    # Display the numbers of unique values in the middle of the bars\n",
    "    ax.bar_label(ax.containers[0], label_type='center', color='white')"
   ]
  },
  {
   "cell_type": "markdown",
   "id": "4d3a9679-803a-4f67-ad65-283605356c6f",
   "metadata": {},
   "source": [
    "### cut"
   ]
  },
  {
   "cell_type": "markdown",
   "id": "c7026c57-05f4-428d-8da6-8872d01bedac",
   "metadata": {},
   "source": [
    "Display the numbers of unique values in the `cut` variable in the order defined below."
   ]
  },
  {
   "cell_type": "code",
   "execution_count": null,
   "id": "0a165353-0c13-4183-a8a2-08d0d7efd685",
   "metadata": {},
   "outputs": [],
   "source": [
    "# In order of decreasing cut quality\n",
    "CUT_ORDER = ['Ideal', 'Premium', 'Very Good', 'Good', 'Fair']"
   ]
  },
  {
   "cell_type": "code",
   "execution_count": null,
   "id": "d5b1d016-839b-4d7d-844d-b62705fd8b2f",
   "metadata": {},
   "outputs": [],
   "source": [
    "# <YOUR CODE>"
   ]
  },
  {
   "cell_type": "markdown",
   "id": "73624b2d-795e-4657-9280-901cb9d07602",
   "metadata": {},
   "source": [
    "### color"
   ]
  },
  {
   "cell_type": "markdown",
   "id": "dae66308-a6db-4160-947f-93818f94830f",
   "metadata": {},
   "source": [
    "Display the numbers of unique values in the `color` variable in descending order of color quality.\n",
    "\n",
    "*NOTE:* Color quality is denoted by the Latin letters D to J, and the quality decreases in alphabetical order."
   ]
  },
  {
   "cell_type": "code",
   "execution_count": null,
   "id": "63b37e2c-f25b-40e0-be15-7387b6ce6539",
   "metadata": {},
   "outputs": [],
   "source": [
    "COLOR_ORDER = df['color'].drop_duplicates().sort_values().tolist()"
   ]
  },
  {
   "cell_type": "code",
   "execution_count": null,
   "id": "ae9cebe3-1574-4a23-86a1-9b4db478fbf7",
   "metadata": {},
   "outputs": [],
   "source": [
    "# <YOUR CODE>"
   ]
  },
  {
   "cell_type": "markdown",
   "id": "f9f99e4f-f864-41c7-b2f2-c898dfad0818",
   "metadata": {},
   "source": [
    "### clarity"
   ]
  },
  {
   "cell_type": "markdown",
   "id": "2b201957-4d5e-4a23-9bfb-140d1e02b650",
   "metadata": {},
   "source": [
    "Display the numbers of unique values in the `clarity` variable in the order defined below."
   ]
  },
  {
   "cell_type": "code",
   "execution_count": null,
   "id": "fe454773-eea9-4b8d-a2dd-ae17a1c012e6",
   "metadata": {},
   "outputs": [],
   "source": [
    "# In order of decreasing clarity, i.e., how clear a diamond is\n",
    "CLARITY_ORDER = ['IF', 'VVS1', 'VVS2', 'VS1', 'VS2', 'SI1', 'SI2', 'I1']"
   ]
  },
  {
   "cell_type": "code",
   "execution_count": null,
   "id": "c989b8f4-20a7-437b-a7a2-b30ea6542152",
   "metadata": {},
   "outputs": [],
   "source": [
    "# <YOUR CODE>"
   ]
  },
  {
   "cell_type": "markdown",
   "id": "49703688-f208-4b4f-8e9f-02250da17a40",
   "metadata": {},
   "source": [
    "### Questions"
   ]
  },
  {
   "cell_type": "markdown",
   "id": "357eec01-02de-47aa-8e40-6976ffbae2b2",
   "metadata": {},
   "source": [
    "Based on the charts above, please answer the questions below."
   ]
  },
  {
   "cell_type": "markdown",
   "id": "b4cfa5e2-904a-4e6d-8f31-1880bdc594a3",
   "metadata": {},
   "source": [
    "**Q:** The above variables are parameters that show the quality of a diamond from different angles.<br>\n",
    "For each parameter, can you tell which quality of diamonds (high, medium, or low) is the most numerous in the dataset?\n",
    "\n",
    "**A:** < YOUR ANSWER >"
   ]
  },
  {
   "cell_type": "markdown",
   "id": "27b0c502-3508-4994-84c4-8a594db71692",
   "metadata": {},
   "source": [
    "**Q:** Can you tell if there are any values in these variables that stand out from the others? If so, what are they?\n",
    "\n",
    "**A:** < YOUR ANSWER >"
   ]
  },
  {
   "cell_type": "markdown",
   "id": "1f8e9698-5ca9-4462-84f0-6281ceb080f5",
   "metadata": {},
   "source": [
    "## Numerical columns"
   ]
  },
  {
   "cell_type": "markdown",
   "id": "b625fb81-30ae-45db-8948-47917dee819c",
   "metadata": {},
   "source": [
    "Recall what numerical variables are present in the dataset."
   ]
  },
  {
   "cell_type": "code",
   "execution_count": null,
   "id": "649e5c39-b0af-4f8a-92e7-2e39413ae170",
   "metadata": {},
   "outputs": [],
   "source": [
    "numerical_cols"
   ]
  },
  {
   "cell_type": "markdown",
   "id": "1b50ce03-d12b-4e08-8742-9eba87026da2",
   "metadata": {},
   "source": [
    "[**Histograms**](https://en.wikipedia.org/wiki/Histogram) are commonly used to visualize the distribution of numerical variables.\n",
    "\n",
    "The most important parameter of a histogram is the number of bins to be displayed. With too small of a number of bins, the visualization of a variable becomes oversimplified and too high-level. When there are too many bins, it shows too many unnecessary details and lacks the bigger picture.\n",
    "\n",
    "One of the options for how to set the default number of bins for a variable is [*Freedman–Diaconis rule*](https://en.wikipedia.org/wiki/Freedman%E2%80%93Diaconis_rule). This is obviously not a universal rule, but it works pretty well in many cases.\n",
    "\n",
    "In the cell below, please implement the function that returns the number of bins for a variable according to the Freedman–Diaconis rule."
   ]
  },
  {
   "cell_type": "code",
   "execution_count": null,
   "id": "96f333d4-eb8a-45e8-867b-888defce0c91",
   "metadata": {},
   "outputs": [],
   "source": [
    "def friedman_diaconis_num_bins(x: pd.Series):\n",
    "    \"\"\"\n",
    "    The number of histogram bins for a variable according to the Freedman–Diaconis rule.\n",
    "    https://en.wikipedia.org/wiki/Freedman%E2%80%93Diaconis_rule\n",
    "\n",
    "    When the bin width is calculated, the number of bins can be obtained by dividing\n",
    "    the difference between the maximum and the minimum value by the bin width and rounding\n",
    "    the result to the nearest integer.\n",
    "    \"\"\"\n",
    "    # <YOUR CODE>\n",
    "    pass"
   ]
  },
  {
   "cell_type": "markdown",
   "id": "91a46f9a-b1c1-47ac-8840-0ff78f22cbcf",
   "metadata": {},
   "source": [
    "Please implement the function below and apply it to each numerical variable in the subsections below."
   ]
  },
  {
   "cell_type": "code",
   "execution_count": null,
   "id": "ff45ac36-2e07-4114-b8aa-aa3fa43995cf",
   "metadata": {},
   "outputs": [],
   "source": [
    "def histogram(df, col, bins='auto', normalize=False, figsize=(6, 4)):\n",
    "    \"\"\"\n",
    "    Plot a histogram of one or more variables on one chart.\n",
    "\n",
    "    Set the variable name as the title and the x-axis label of the chart.\n",
    "    If multiple variables are passed, join them beforehand using a comma\n",
    "    to separate them.\n",
    "    Set the y-axis label to \"Frequency\".\n",
    "\n",
    "    If multiple variables are passed, display them on the same chart,\n",
    "    but make the histograms 50% transparent. If one variable is passed,\n",
    "    do not change the default transparency of the histogram.\n",
    "\n",
    "    Args:\n",
    "        df: pd.DataFrame, an input dataframe\n",
    "        col: str or list[str], a variable or variables to visualize\n",
    "        bins: int, list[int] or \"auto\"\n",
    "            The number of histogram bins for each variable.\n",
    "            If it takes an integer value when multiple variables are\n",
    "            passed through the `col` parameter, this value should be\n",
    "            used for any variable. If it equals \"auto\", the\n",
    "            Freedman–Diaconis rule should be applied to calculate the\n",
    "            number of bins for each variable\n",
    "        normalize: bool\n",
    "            If true, normalize each variable before plotting the\n",
    "            histogram (false by default). Here, normalization means subtracting\n",
    "            the mean from the variable and dividing the result by \n",
    "            the standard deviation.\n",
    "        figsize: tuple[int, int]\n",
    "            Size of the chart.\n",
    "    \"\"\"\n",
    "    fig, ax = plt.subplots(figsize=figsize)\n",
    "    # <YOUR CODE>"
   ]
  },
  {
   "cell_type": "markdown",
   "id": "e0f846ab-9e4b-418e-9634-f17f353e8600",
   "metadata": {},
   "source": [
    "### Price"
   ]
  },
  {
   "cell_type": "markdown",
   "id": "129f180f-f768-4699-a82a-e410562a8af1",
   "metadata": {},
   "source": [
    "Display the distribution of the `price` variable below."
   ]
  },
  {
   "cell_type": "code",
   "execution_count": null,
   "id": "21ba8368-1c1f-469e-8aef-ae69edf83b59",
   "metadata": {},
   "outputs": [],
   "source": [
    "# <YOUR CODE>"
   ]
  },
  {
   "cell_type": "markdown",
   "id": "689c5538-f778-4769-b85a-4df354f740c5",
   "metadata": {},
   "source": [
    "### Carat"
   ]
  },
  {
   "cell_type": "markdown",
   "id": "1bebe41a-d021-48a0-9c35-8faba16056ac",
   "metadata": {},
   "source": [
    "Display the distribution of the `carat` variable below.\n",
    "\n",
    "*NOTE:* A carat is a measure of the weight of gem-stones; 1 carat equals 0.2 grams."
   ]
  },
  {
   "cell_type": "code",
   "execution_count": null,
   "id": "b50cf6ab-8d53-402c-a7ee-aa78e25e3574",
   "metadata": {},
   "outputs": [],
   "source": [
    "# <YOUR CODE>"
   ]
  },
  {
   "cell_type": "markdown",
   "id": "6ff4220d-2c04-40a3-bd62-75fce8748bbd",
   "metadata": {},
   "source": [
    "### Dimensions"
   ]
  },
  {
   "cell_type": "markdown",
   "id": "082702d4-33a4-4278-a93f-3534c4b9a2df",
   "metadata": {},
   "source": [
    "![Round diamond dimensions](https://www.ricevillagediamonds.com/wp-content/uploads/2013/10/depth-table.jpg)\n",
    "![Oval diamond dimensions](https://www.diamondexchange.ca/wp-content/uploads/2021/01/diamond-47.jpg)"
   ]
  },
  {
   "cell_type": "markdown",
   "id": "05f82636-a086-4b77-abe5-a465b460d090",
   "metadata": {},
   "source": [
    "#### X, Y, Z"
   ]
  },
  {
   "cell_type": "markdown",
   "id": "c494f8a6-a82c-4f1f-84c3-d4980f4877c1",
   "metadata": {},
   "source": [
    "The `x`, `y`, and `z` variables denote the length, width and depth of a diamond in milimeters, respectively.\n",
    "\n",
    "Display the distribution of the `x`, `y`, and `z` variables on a single chart below."
   ]
  },
  {
   "cell_type": "code",
   "execution_count": null,
   "id": "5e821772-6300-4a00-95a9-bb84fbfd0032",
   "metadata": {},
   "outputs": [],
   "source": [
    "# <YOUR CODE>"
   ]
  },
  {
   "cell_type": "markdown",
   "id": "6cf07f80-64ef-41d2-83fa-fb503fbac8ae",
   "metadata": {},
   "source": [
    "#### Table"
   ]
  },
  {
   "cell_type": "markdown",
   "id": "0e673eb8-fead-4947-88fa-a3dfdaa157eb",
   "metadata": {},
   "source": [
    "The `table` variable denotes the width of the diamond's top surface relative to its girdle, i.e. the widest part (in percent).\n",
    "\n",
    "Display the distribution of the `table` variable below."
   ]
  },
  {
   "cell_type": "code",
   "execution_count": null,
   "id": "4a203b86-f34b-4add-b602-8b0132b045e9",
   "metadata": {},
   "outputs": [],
   "source": [
    "# <YOUR CODE>"
   ]
  },
  {
   "cell_type": "markdown",
   "id": "9891caaa-af27-46c7-a580-2f495bbacb59",
   "metadata": {},
   "source": [
    "#### Depth"
   ]
  },
  {
   "cell_type": "markdown",
   "id": "f1d692fc-1454-4200-83c1-d7dacac7a0e1",
   "metadata": {},
   "source": [
    "The `depth` variable denotes the relative height of a diamond in percents, measured from the culet to the table, divided by its average girdle diameter.\n",
    "\n",
    "Display the distribution of the `depth` variable below."
   ]
  },
  {
   "cell_type": "code",
   "execution_count": null,
   "id": "3b1af184-a7b7-4c7f-87d1-a1a69f01591a",
   "metadata": {},
   "outputs": [],
   "source": [
    "# <YOUR CODE>"
   ]
  },
  {
   "cell_type": "markdown",
   "id": "5005173c-16b1-47a6-9b02-461377b88634",
   "metadata": {},
   "source": [
    "### Questions"
   ]
  },
  {
   "cell_type": "markdown",
   "id": "2327c05a-ad9c-4cc6-af0e-8abdd66293f1",
   "metadata": {},
   "source": [
    "**Q:** Which of the numerical variables have a skewed distribution, and in what direction (the minimum or maximum)? What does this mean practically? \n",
    "\n",
    "**A:** < YOUR ANSWER >"
   ]
  },
  {
   "cell_type": "markdown",
   "id": "bb958f77-3f68-42c0-9f6b-b786de100d21",
   "metadata": {},
   "source": [
    "**Q:** Which of the numerical variables have an almost symmetrical distribution?\n",
    "\n",
    "**A:** < YOUR ANSWER >"
   ]
  },
  {
   "cell_type": "markdown",
   "id": "298a0b4f-d7fb-47b8-9af0-422ad6b58484",
   "metadata": {},
   "source": [
    "**Q:** Can you explain the gaps between the neighboring bins in the `table` variable histogram? (Make a hypothesis.)\n",
    "\n",
    "**A:** < YOUR ANSWER >"
   ]
  },
  {
   "cell_type": "markdown",
   "id": "8dec5c72-8087-4688-8acf-e31c9ce55d06",
   "metadata": {},
   "source": [
    "**Q:** Compare the variables `x`, `y`, and `z`. What type of relationship do you observe between them on your plots? What does this mean practically?\n",
    "\n",
    "**A:** < YOUR ANSWER >"
   ]
  },
  {
   "cell_type": "markdown",
   "id": "3d2e42cc-7b71-4ea7-9c56-e8e184e46253",
   "metadata": {},
   "source": [
    "Run the cell below and answer the question."
   ]
  },
  {
   "cell_type": "code",
   "execution_count": null,
   "id": "39554bc6-574f-4456-a5f7-259c1fb4fd4c",
   "metadata": {},
   "outputs": [],
   "source": [
    "histogram(df, ['x', 'y', 'z'], normalize=True)"
   ]
  },
  {
   "cell_type": "markdown",
   "id": "ac897151-aa2e-40b5-8836-ade52b34b431",
   "metadata": {},
   "source": [
    "**Q:** What conclusions can be made based on the histograms of the normalized `x`, `y` and `z` variables?\n",
    "\n",
    "**A:** < YOUR ANSWER >"
   ]
  },
  {
   "cell_type": "markdown",
   "id": "ead250bc-3a07-4f72-8e48-f78f2e94b3c6",
   "metadata": {},
   "source": [
    "# Bivariate analysis"
   ]
  },
  {
   "cell_type": "markdown",
   "id": "7997abec-1a80-42a3-88ec-3298168d6ba9",
   "metadata": {},
   "source": [
    "In this section, you will analyze the dependencies between the pairs of variables in the dataset."
   ]
  },
  {
   "cell_type": "markdown",
   "id": "8fd591db-9c5d-411b-b8b3-08028c148103",
   "metadata": {},
   "source": [
    "## Correlation"
   ]
  },
  {
   "cell_type": "markdown",
   "id": "2ce08f93-cbae-445b-a2f1-6b789ce29833",
   "metadata": {},
   "source": [
    "Correlation shows the probability of a linear dependency between two variables.\n",
    "\n",
    "It takes values from the range [-1, 1], where the endpoints denote linear dependency and a value of 0 denotes the absence of linear dependency.\n",
    "\n",
    "Note that even zero correlation does not generally mean that there is no dependency between two variables at all because the dependency might be more complex than linear."
   ]
  },
  {
   "cell_type": "markdown",
   "id": "18f270a3-7f17-4533-8aec-d1692f3537cd",
   "metadata": {},
   "source": [
    "Your next task will be to plot a **correlation matrix** that shows the correlation between each two variables in the dataset. It can be visually represented with a [**heat map**](https://en.wikipedia.org/wiki/Heat_map)."
   ]
  },
  {
   "cell_type": "markdown",
   "id": "09a80c8d-7bd4-4525-87df-6f4079476bbc",
   "metadata": {},
   "source": [
    "First, copy the dataframe to keep the original version unaltered."
   ]
  },
  {
   "cell_type": "code",
   "execution_count": null,
   "id": "7b37703d-14ee-4101-b5d4-54e2f8c897a5",
   "metadata": {},
   "outputs": [],
   "source": [
    "num_df = df.copy()"
   ]
  },
  {
   "cell_type": "markdown",
   "id": "b8cc75ed-24ee-4265-84b1-9f4e64797d7c",
   "metadata": {},
   "source": [
    "Correlation can only be calculated between numerical variables, so categorical values need to be converted into numbers.\n",
    "\n",
    "The two most popular ways to do this are:\n",
    "1. *Ordinal encoding*. If categorical values can be reasonably ordered, you can sort the unique values and enumerate them using integer from 1 to N (the number of unique values).<br>\n",
    "For example, if a review variable can be either \"Good\", \"Bad\" or \"Neutral\", it's reasonable to replace all \"Good\" values with 3, \"Neutral\" values with 2, and \"Bad\" values with 1.\n",
    "1. *One-hot encoding*. If categorical values cannot be tied with an order relation, you can create N columns, each corresponding to a separate unique value. A new column will be an indicator of a unique value, i.e., it will have 1 at positions where the value is present and 0 at positions where the value is not present (see the illustration below).\n",
    "\n",
    "![One-hot encoding](https://www.researchgate.net/publication/344409939/figure/fig1/AS:940907041918978@1601341128930/An-example-of-one-hot-encoding.png)"
   ]
  },
  {
   "cell_type": "markdown",
   "id": "345ee6cb-7eaa-43ee-b121-ae0f095af3fd",
   "metadata": {},
   "source": [
    "In this dataset, all the categorical variables can be ordered since they denote the quality of a diamond.\n",
    "\n",
    "Please use ordinal encoding to transform categorical variables into numerical variables in the cells below."
   ]
  },
  {
   "cell_type": "code",
   "execution_count": null,
   "id": "cb148343-d814-4cce-b4d4-bda798bc314a",
   "metadata": {},
   "outputs": [],
   "source": [
    "# Enumerate cut values from 1 (Fair) to 5 (Ideal)\n",
    "\n",
    "# <YOUR CODE>\n",
    "# num_df['cut'] = ..."
   ]
  },
  {
   "cell_type": "code",
   "execution_count": null,
   "id": "73cf0436-4f1c-49b1-98c6-87c9bdcbe669",
   "metadata": {},
   "outputs": [],
   "source": [
    "# Enumerate colors from 1 (J, worst) to 7 (D, best)\n",
    "\n",
    "# <YOUR CODE>\n",
    "# num_df['color'] = ..."
   ]
  },
  {
   "cell_type": "code",
   "execution_count": null,
   "id": "33cc5e23-001c-47bf-b1c1-dc7f5931d3ce",
   "metadata": {},
   "outputs": [],
   "source": [
    "# Enumerate clarity from 1 (I1, worst) to 8 (IF, best)\n",
    "\n",
    "# <YOUR CODE>\n",
    "# num_df['clarity'] = ..."
   ]
  },
  {
   "cell_type": "markdown",
   "id": "bf34bdd9-bd6f-4b01-b174-4fda5961a82d",
   "metadata": {},
   "source": [
    "Now, you are ready to display a correlation matrix of the dataset variables. Please put your implementation in the cell below."
   ]
  },
  {
   "cell_type": "code",
   "execution_count": null,
   "id": "a632eec8-55f8-4e0c-983a-46794dbbed69",
   "metadata": {},
   "outputs": [],
   "source": [
    "fig, ax = plt.subplots(figsize=(8, 6))\n",
    "# <YOUR CODE>"
   ]
  },
  {
   "cell_type": "markdown",
   "id": "ddd807fb-cb40-4021-ac2f-f1ebf40b48ec",
   "metadata": {},
   "source": [
    "**Q:** Which pairs of variables have the strongest correlation (either positive or negative)? How would you explain this?\n",
    "\n",
    "**A:** < YOUR ANSWER >"
   ]
  },
  {
   "cell_type": "markdown",
   "id": "27119754-7913-4b95-829e-3c5dd746aa2f",
   "metadata": {},
   "source": [
    "## Variable vs. target"
   ]
  },
  {
   "cell_type": "markdown",
   "id": "ab0dd835-5301-4777-9517-a6c13934a7ca",
   "metadata": {},
   "source": [
    "In this section, you will compare `price`, which is the target variable for modelling, to any other variable in the dataset."
   ]
  },
  {
   "cell_type": "markdown",
   "id": "f350f5e1-2511-4ddd-933d-573f2331435c",
   "metadata": {},
   "source": [
    "### Categorical variable vs. target variable"
   ]
  },
  {
   "cell_type": "markdown",
   "id": "6616909b-5dec-4ffa-ad53-07ee28cb1114",
   "metadata": {},
   "source": [
    "To compare a categorical variable to a numerical target variable, it's best to use bar plot visualization by putting categorical values on one axis and the average target values by category on the other."
   ]
  },
  {
   "cell_type": "markdown",
   "id": "5aff2b29-e150-4250-9799-86c837a8624a",
   "metadata": {},
   "source": [
    "#### cut vs. price"
   ]
  },
  {
   "cell_type": "markdown",
   "id": "5efa15d7-b35d-477d-b8f9-48a70bb330f7",
   "metadata": {},
   "source": [
    "Visualize the average `price` for each type of `cut`."
   ]
  },
  {
   "cell_type": "code",
   "execution_count": null,
   "id": "b5a64ff2-1bf1-46fd-84d0-a177726d9519",
   "metadata": {},
   "outputs": [],
   "source": [
    "# <YOUR CODE>"
   ]
  },
  {
   "cell_type": "markdown",
   "id": "cd3b6f82-d4a7-4532-a330-014b75e649b5",
   "metadata": {},
   "source": [
    "#### color vs. price"
   ]
  },
  {
   "cell_type": "markdown",
   "id": "bb3c50a0-6e55-4a08-b3ca-06f5db5a9d5e",
   "metadata": {},
   "source": [
    "Visualize the average `price` for each `color`."
   ]
  },
  {
   "cell_type": "code",
   "execution_count": null,
   "id": "3c00b781-1d80-4896-a9ce-14e0a1f1badc",
   "metadata": {},
   "outputs": [],
   "source": [
    "# <YOUR CODE>"
   ]
  },
  {
   "cell_type": "markdown",
   "id": "579f0e76-7e4a-4fda-9711-e4f4548f4851",
   "metadata": {},
   "source": [
    "#### clarity vs. price\n",
    "\n",
    "Visualize the average `price` for each type of `clarity`."
   ]
  },
  {
   "cell_type": "code",
   "execution_count": null,
   "id": "4e2d4737-a3dd-4e94-9d2a-4ac24e90f9da",
   "metadata": {},
   "outputs": [],
   "source": [
    "# <YOUR CODE>"
   ]
  },
  {
   "cell_type": "markdown",
   "id": "373ffea2-45d5-4ee2-8129-64093d0e99a5",
   "metadata": {},
   "source": [
    "#### Questions"
   ]
  },
  {
   "cell_type": "markdown",
   "id": "bff6e0de-c048-46c5-b172-c50c104f2f6b",
   "metadata": {},
   "source": [
    "**Q:** Which of the categorical variables has the clearest relationship to the target? How would you describe this relationship?\n",
    "\n",
    "**A:** < YOUR ANSWER >"
   ]
  },
  {
   "cell_type": "markdown",
   "id": "40d7a402-f06b-4545-982d-301dc0a4042f",
   "metadata": {},
   "source": [
    "### Numerical variable vs. target variable"
   ]
  },
  {
   "cell_type": "markdown",
   "id": "6f152ffd-3a64-49c3-82c1-923f42909595",
   "metadata": {},
   "source": [
    "To compare a numerical variable to a numerical target variable it's best to use [**scatter plots**](https://en.wikipedia.org/wiki/Scatter_plot) with slightly transparent points."
   ]
  },
  {
   "cell_type": "markdown",
   "id": "e8846a01-9c49-4ef2-90d9-1cd85ca69390",
   "metadata": {},
   "source": [
    "#### depth vs. price"
   ]
  },
  {
   "cell_type": "markdown",
   "id": "9106b84b-b9ec-46ec-a610-217d6dd121e8",
   "metadata": {},
   "source": [
    "Visualize the variables `depth` and `price` using a scatter plot with slightly transparent points."
   ]
  },
  {
   "cell_type": "code",
   "execution_count": null,
   "id": "6edaf1ef-a8dd-4321-8126-4fbdf0b355d5",
   "metadata": {},
   "outputs": [],
   "source": [
    "# <YOUR CODE>"
   ]
  },
  {
   "cell_type": "markdown",
   "id": "fcbfc3ea-d131-4b66-a857-a31e8835fe60",
   "metadata": {},
   "source": [
    "#### table vs. price"
   ]
  },
  {
   "cell_type": "markdown",
   "id": "49c4b1c2-7ab5-4a56-8157-a83eac80c774",
   "metadata": {},
   "source": [
    "Visualize the variables `table` and `price` using a scatter plot with slightly transparent points."
   ]
  },
  {
   "cell_type": "code",
   "execution_count": null,
   "id": "9b54a64a-ca34-405a-8ec1-e6188615357f",
   "metadata": {},
   "outputs": [],
   "source": [
    "# <YOUR CODE>"
   ]
  },
  {
   "cell_type": "markdown",
   "id": "e730a2eb-16d2-4c0d-b248-5c20322f4686",
   "metadata": {},
   "source": [
    "#### x vs. price"
   ]
  },
  {
   "cell_type": "markdown",
   "id": "d673f85d-b3e3-4ea3-a391-5ad1c32eafb6",
   "metadata": {},
   "source": [
    "Visualize the variables `table` and `price` using a scatter plot with slightly transparent points."
   ]
  },
  {
   "cell_type": "code",
   "execution_count": null,
   "id": "cd7993c2-bcbf-4f60-911f-d35ab19bc0fe",
   "metadata": {},
   "outputs": [],
   "source": [
    "# <YOUR CODE>"
   ]
  },
  {
   "cell_type": "markdown",
   "id": "8a4053f3-0757-48f7-9833-ec89c74ea1f9",
   "metadata": {},
   "source": [
    "#### Questions"
   ]
  },
  {
   "cell_type": "markdown",
   "id": "4f98ca9b-4537-4f24-9dad-567ec5c27632",
   "metadata": {},
   "source": [
    "**Q:** Which of the numerical variables has the clearest relationship to the target? How would you describe this relationship?\n",
    "\n",
    "**A:** < YOUR ANSWER >"
   ]
  },
  {
   "cell_type": "markdown",
   "id": "66837d3c-4037-4b73-9058-d464f832003c",
   "metadata": {},
   "source": [
    "**Q:** Consider the clusters of points that lie close to a vertical line. What can you tell about the difficulty of predicting a target value when the numerical variable takes a value close to this line?\n",
    "\n",
    "**A:** < YOUR ANSWER >"
   ]
  },
  {
   "cell_type": "markdown",
   "id": "247d9fa0-68f5-4415-917e-bf5e65d7732e",
   "metadata": {},
   "source": [
    "## Bonus: Approximating the target variable"
   ]
  },
  {
   "cell_type": "markdown",
   "id": "e3ce115b-2459-4a99-bb38-b641cf5b523f",
   "metadata": {},
   "source": [
    "1. Based on the above analysis choose the variable that has the clearest relationship to the target.<br>\n",
    "Denote the target as $y$ and the chosen variable as $x$ (not necessarily the variable `x` - don't be confused!).<br>\n",
    "Both $x=(x_1, ..., x_n)$ and $y=(y_1, ..., y_n)$ are vectors of $n$ values, where $n$ is the number of rows in the dataset\n",
    "2. Choose the type of approximation function, e.g. a linear function $f(x) = ax +b$ or a quadratic function $f(x) = a x^2 + b x + c$. Here $a$, $b$, and $c$ are scalar parameters.\n",
    "3. Tune the parameters of the approximation function $f(x)$ to make its return value as close to $y$, as possible.\n",
    "\n",
    "To measure the quality of the approximation, use the mean squared error, which is defined as follows:\n",
    "\n",
    "$$F = \\frac{1}{n} \\sum_{i=1}^n (f(x_i) - y_i)^2.$$\n",
    "\n",
    "For example, in the case of a linear relationship, the mean squared error looks like the following:\n",
    "\n",
    "$$F(a, b) = \\frac{1}{n} \\sum_{i=1}^n (a x_i + b - y_i)^2.$$\n",
    "\n",
    "The lower the value of $F(a, b)$, the better the approximation."
   ]
  },
  {
   "cell_type": "markdown",
   "id": "bb394467-1018-4fae-b5a1-77eb82540dce",
   "metadata": {},
   "source": [
    "To develop the approximation, you have at least two options:\n",
    "\n",
    "1. **Analytical approach.** Calculate the coefficients $a$ and $b$, which minimize the function $F(a, b)$. From calculus, you might know that the derivatives of the error $F$ with respect to both $a$ and $b$ should be 0, so the optimal $a$ and $b$ values can be found by solving the system of linear equations: $F'_a = 0$ and $F'_b = 0$.\n",
    "2. **Brute-force approach.** Find the coefficients $a$ and $b$ by setting sufficiently wide grids for them (see the `np.linspace` function), iterating over all the combinations of points in the grid, and finding the combinations for which the value of $F(a, b)$ is the lowest.\n",
    "\n",
    "Your optional task is to implement ether of the two approaches to build the approximation function."
   ]
  },
  {
   "cell_type": "code",
   "execution_count": null,
   "id": "f08de1ce-588b-4c6d-a036-65965856eef8",
   "metadata": {},
   "outputs": [],
   "source": [
    "# <YOUR CODE>: a function that approximates the target variable\n",
    "\n",
    "def approximation_function(*args):\n",
    "    pass"
   ]
  },
  {
   "cell_type": "code",
   "execution_count": null,
   "id": "d14f41c6-a0f0-44aa-aef0-9efcf9b5441e",
   "metadata": {},
   "outputs": [],
   "source": [
    "CHOSEN_COL = # <YOUR COLUMN NAME>"
   ]
  },
  {
   "cell_type": "markdown",
   "id": "9628e2ae-d55d-4708-9578-6f6e888596ec",
   "metadata": {},
   "source": [
    "Now check how well the approximation function fits the original data."
   ]
  },
  {
   "cell_type": "code",
   "execution_count": null,
   "id": "7d692f74-7870-4151-859f-e958a95d9085",
   "metadata": {},
   "outputs": [],
   "source": [
    "fig, ax = plt.subplots()\n",
    "df.plot.scatter(x=CHOSEN_COL, y='price', alpha=0.1, grid=True, ax=ax)\n",
    "\n",
    "x = np.linspace(df[CHOSEN_COL].quantile(0.01), df[CHOSEN_COL].quantile(0.99), num=100)\n",
    "\n",
    "y = approx_func(x)\n",
    "ax.plot(x, y, color='red', label='Approximation of price')\n",
    "ax.legend()"
   ]
  }
 ],
 "metadata": {
  "kernelspec": {
   "display_name": "Python 3 (ipykernel)",
   "language": "python",
   "name": "python3"
  },
  "language_info": {
   "codemirror_mode": {
    "name": "ipython",
    "version": 3
   },
   "file_extension": ".py",
   "mimetype": "text/x-python",
   "name": "python",
   "nbconvert_exporter": "python",
   "pygments_lexer": "ipython3",
   "version": "3.9.18"
  }
 },
 "nbformat": 4,
 "nbformat_minor": 5
}
