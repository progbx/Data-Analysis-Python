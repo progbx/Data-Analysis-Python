{
 "cells": [
  {
   "cell_type": "markdown",
   "id": "35423b46-7293-4bc9-b858-dabbc790b559",
   "metadata": {},
   "source": [
    "# Explore bivariate relations in a dataset"
   ]
  },
  {
   "cell_type": "markdown",
   "id": "eb311616-ed74-4f48-af50-c56ba2ae421d",
   "metadata": {},
   "source": [
    "In this notebook, you will implement code that generates the building blocks of the main types of plots used to visualize bivariate relations in a dataset:\n",
    "* Categorical-categorical (heatmap)\n",
    "* Numerical-numerical (scatter plot)\n",
    "* Numerical-categorical (box plot)\n",
    "\n",
    "You will check your work by visually comparing your results with graphs. "
   ]
  },
  {
   "cell_type": "code",
   "execution_count": 1,
   "id": "9ab2ca63-5d8c-4d72-8acc-d257b6e0a3ac",
   "metadata": {},
   "outputs": [],
   "source": [
    "import numpy as np\n",
    "import pandas as pd\n",
    "import seaborn as sns\n",
    "import matplotlib.pyplot as plt\n",
    "%matplotlib inline"
   ]
  },
  {
   "cell_type": "markdown",
   "id": "2a3ae35d-b94b-42a8-8f45-f5fa96d3b5df",
   "metadata": {},
   "source": [
    "**NOTE:** Some of the cells below contain the magic command `%%writefile`, which saves the contents of a cell into a specified file. Here, all such commands are commented. Please make sure to do the following when completing the subtasks:\n",
    "\n",
    "1. Uncomment **all** `%%writefile` commands\n",
    "2. Rerun the entire notebook\n",
    "\n",
    "This is important because the generated `.py` files will be checked."
   ]
  },
  {
   "cell_type": "markdown",
   "id": "b36da6f4-a524-4642-b6aa-6374f6188203",
   "metadata": {},
   "source": [
    "### Task 1: Categorical-categorical relations: Count the unique values"
   ]
  },
  {
   "cell_type": "markdown",
   "id": "643561f2-d812-46a5-b3b5-c4b80c2e7828",
   "metadata": {},
   "source": [
    "Your task is to implement a function that counts the unique pairs of values in specified columns of a given dataframe.\n",
    "\n",
    "You should express the number of unique value pairs in both the absolute and the relative sense (i.e., with respect to the total number of pairs in a column) and put them in the columns `\"count\"` and `\"freq\"` in the output dataframe.\n",
    "\n",
    "Please use the template `count_frequencies` for the implementation."
   ]
  },
  {
   "cell_type": "code",
   "execution_count": 2,
   "id": "b36d026f-53fa-474d-9300-245da223fe3f",
   "metadata": {},
   "outputs": [],
   "source": [
    "%%writefile ./../solutions/count_frequencies.py\n",
    "import pandas as pd\n",
    "\n",
    "def count_frequencies(df: pd.DataFrame, col_x: str, col_y: str) -> pd.DataFrame:\n",
    "    df = df.explode(col_x).explode(col_y)\n",
    "    count_df = df.groupby([col_x, col_y]).size().reset_index(name='count')\n",
    "    count_df['freq'] = count_df['count'] / len(df)\n",
    "    count_df.columns = ['cat_x', 'cat_y', 'count', 'freq']  # Set the correct column names\n",
    "    return count_df\n"
   ]
  },
  {
   "cell_type": "markdown",
   "id": "2b0f700c-2af7-4454-89d0-19c1d53024c2",
   "metadata": {},
   "source": [
    "#### Self-Check"
   ]
  },
  {
   "cell_type": "code",
   "execution_count": 3,
   "id": "09a7ce8f-180f-4a66-8584-a2aa4a50d2d3",
   "metadata": {},
   "outputs": [],
   "source": [
    "df = pd.DataFrame(data=[[['cat', 'dog', 'chicken'], ['meat', 'egg', 'rice']],\n",
    "                       [['cat', 'frog'], ['rice', 'corn']],\n",
    "                       [['cat', 'pig'], ['meat', 'cereal', 'corn']],\n",
    "                       [['cat', 'pig'], ['meat', 'cereal', 'corn']]], columns=['x', 'y'])"
   ]
  },
  {
   "cell_type": "code",
   "execution_count": 4,
   "id": "61c76beb-7b21-488e-990d-7a21d78226e2",
   "metadata": {},
   "outputs": [],
   "source": [
    "check_df = count_frequencies(df, 'x', 'y')"
   ]
  },
  {
   "cell_type": "markdown",
   "id": "ab0b1d72-b917-4bdb-b4ec-e8c971c0ba6b",
   "metadata": {},
   "source": [
    "**To check youself, please, run the cells below. You should see the same pictures:**\n",
    "\n",
    "\n",
    "![](docs/output_file_1_1.png)\n",
    "![](docs/output_file_1_2.png)"
   ]
  },
  {
   "cell_type": "code",
   "execution_count": 4,
   "id": "20b379a5-963d-4180-9e25-6d6acae74cc7",
   "metadata": {},
   "outputs": [],
   "source": [
    "pivot = check_df.pivot(index='cat_x', columns='cat_y', values='count')\n",
    "ax = sns.heatmap(pivot, annot=True)\n",
    "plt.show()"
   ]
  },
  {
   "cell_type": "code",
   "execution_count": 5,
   "id": "05ca712e-09b7-4cce-8bb6-0cc3336c512d",
   "metadata": {},
   "outputs": [],
   "source": [
    "pivot = check_df.pivot(index='cat_x', columns='cat_y', values='freq') \n",
    "ax = sns.heatmap(pivot,annot=True)\n",
    "plt.show()"
   ]
  },
  {
   "cell_type": "markdown",
   "id": "87aaee58-5ab6-4d03-9f9b-09b702e5aba2",
   "metadata": {},
   "source": [
    "### Task 2: Numerical-numerical relations: Calculating correlations"
   ]
  },
  {
   "cell_type": "markdown",
   "id": "3c4210d2-d1e7-4a38-aecc-8e2660e8eea6",
   "metadata": {},
   "source": [
    "Your task is to implement a function that prepares the data needed to plot a correlation matrix.\n",
    "\n",
    "In other words, given a dataframe (with both numerical and categorical features), for each pair of numerical columns, you should calculate the correlation. Then, based on the given threshold, drop the columns or rows where the absolute value (modulus) of the correlation with any other columns or rows isn't greater than the threshold. This functionality is useful when the number of numerical features is extremely large and you want to ignore uncorrelated pairs. \n",
    "\n",
    "Please use the template `calculate_correlation` for the implementation."
   ]
  },
  {
   "cell_type": "code",
   "execution_count": 6,
   "id": "88775983-1b6f-4cae-b39e-0d439d67f14d",
   "metadata": {},
   "outputs": [],
   "source": [
    "%%writefile ./../solutions/calculate_correlation.py\n",
    "import pandas as pd\n",
    "import numpy as np\n",
    "\n",
    "def calculate_correlation(\n",
    "    df: pd.DataFrame,\n",
    "    threshold: float,\n",
    ") -> pd.DataFrame:\n",
    "    \"\"\"\n",
    "    Calculate the correlation matrix for a given dataframe, dropping columns and rows where \n",
    "    the correlation with any other variables isn't greater than `threshold` by modulus.\n",
    "\n",
    "    Args:\n",
    "        df: pd.DataFrame, an input dataframe\n",
    "        threshold: int, an input threshold\n",
    "    Returns:\n",
    "        pd.DataFrame\n",
    "            A dataframe that contains a submatrix of the correlation matrix\n",
    "    \"\"\"\n",
    "\n",
    "    corr_matrix = df.corr()\n",
    "    cols_to_keep = []\n",
    "\n",
    "    for col in corr_matrix:\n",
    "        keep_col = False\n",
    "        for row in corr_matrix:\n",
    "            if col != row and abs(corr_matrix[col][row]) > threshold:\n",
    "                keep_col = True\n",
    "                break\n",
    "        if keep_col:\n",
    "            cols_to_keep.append(col)\n",
    "\n",
    "    return corr_matrix.loc[cols_to_keep, cols_to_keep]\n",
    "\n"
   ]
  },
  {
   "cell_type": "markdown",
   "id": "231d1126-f9e8-463c-87cb-4a6ac8527115",
   "metadata": {},
   "source": [
    "#### Self-Check"
   ]
  },
  {
   "cell_type": "markdown",
   "id": "ac59d083-8499-4675-a364-b6d5c53535f5",
   "metadata": {},
   "source": [
    "Now, let's check correctness with the given example below:"
   ]
  },
  {
   "cell_type": "code",
   "execution_count": 7,
   "id": "9b398ba3-c14b-4d1f-a788-1bedb79386b1",
   "metadata": {},
   "outputs": [],
   "source": [
    "df = pd.DataFrame({\n",
    "    'a': [0, 1, 0, 1, 1, 1],\n",
    "    'b': [0, 1, 0, 1, 1, 1],\n",
    "    'c': [0, 0, 0, 0, 1, 1],\n",
    "    'd': [1, 1, 1, 1, 0, 0],\n",
    "    'e': [1, 0, 1, 1, 1, 0],\n",
    "    'f': [1, 1, 1, 1, 1, 1],\n",
    "    'g': [1, 0, 1, 1, 1, 1],\n",
    "})\n",
    "\n",
    "df['c'] = \"I'm string\""
   ]
  },
  {
   "cell_type": "code",
   "execution_count": 8,
   "id": "556485e1-4de8-4e07-8a82-fac7f08efa78",
   "metadata": {},
   "outputs": [],
   "source": [
    "corr_matrix = calculate_correlation(df, 0.4)"
   ]
  },
  {
   "cell_type": "markdown",
   "id": "07736906-8023-401e-a752-8310e69e5b0d",
   "metadata": {},
   "source": [
    "**For a given example, the code below should produce a heat-map like the one in the example:**\n",
    "\n",
    "![](docs/output_file_2.png)"
   ]
  },
  {
   "cell_type": "code",
   "execution_count": 9,
   "id": "499c0226-bfe3-4191-98a6-516386636f1f",
   "metadata": {},
   "outputs": [],
   "source": [
    "ax = sns.heatmap(corr_matrix, annot=True, fmt=\".2f\")\n",
    "plt.show()"
   ]
  },
  {
   "cell_type": "markdown",
   "id": "c9e4772b-ea76-4281-9b38-f14a33484f4b",
   "metadata": {},
   "source": [
    "### Task 3: Numerical-categorical relations: Describe a category with numerical statistics"
   ]
  },
  {
   "cell_type": "markdown",
   "id": "4f0385c7-8e6b-4a8e-ab10-0d95e23ec4b3",
   "metadata": {},
   "source": [
    "Your task is to implement a function that prepares and preprocesses a dataset for numerical-categorical relations analysis.\n",
    "\n",
    "Please use the template `describe_categoricals_by_numericals` for the implementation."
   ]
  },
  {
   "cell_type": "code",
   "execution_count": 10,
   "id": "7109c772-5acf-4b8b-add3-3b75cec50030",
   "metadata": {},
   "outputs": [],
   "source": [
    "%%writefile ./../solutions/describe_categoricals_by_numericals.py\n",
    "import pandas as pd\n",
    "\n",
    "\n",
    "def describe_categoricals_by_numericals(\n",
    "    df: pd.DataFrame, \n",
    "    col_cat: str, \n",
    "    col_num: str\n",
    ") -> pd.DataFrame:\n",
    "   \n",
    "    descr_df = pd.DataFrame(index=[\"lower\", \"Q1\", \"median\", \"Q3\", \"upper\"], columns=df[col_cat].unique(), dtype=float) \n",
    "    for i in df[col_cat].unique():\n",
    "      descr_df[i]['median'] = df[df[col_cat] == i][col_num].median()\n",
    "      descr_df[i]['Q1'] = df[df[col_cat] == i][col_num].quantile(0.25)\n",
    "      descr_df[i]['Q3'] = df[df[col_cat] == i][col_num].quantile(0.75)\n",
    "      descr_df[i]['lower'] = descr_df[i]['Q1'] - 1.5 * (descr_df[i]['Q3'] - descr_df[i]['Q1'])\n",
    "      descr_df[i]['upper'] = descr_df[i]['Q3'] + 1.5 * (descr_df[i]['Q3'] - descr_df[i]['Q1'])\n",
    "    return descr_df"
   ]
  },
  {
   "cell_type": "markdown",
   "id": "05b5f5fa-aa4a-4758-b4e5-e4695233fee5",
   "metadata": {},
   "source": [
    "#### Self-Check"
   ]
  },
  {
   "cell_type": "code",
   "execution_count": 11,
   "id": "c14aba6e-e160-4123-9aa5-f2f55597d472",
   "metadata": {},
   "outputs": [],
   "source": [
    "df = pd.DataFrame(data=[*zip(['cat', 'dog', 'pig', 'cat', 'dog', 'frog', 'frog', 'pig'], \n",
    "                             [2, 8, 25, 3, 6, 0.5, 1, 15])], columns=['animal', 'weight'])"
   ]
  },
  {
   "cell_type": "code",
   "execution_count": 12,
   "id": "638a0c19-e161-4647-a752-5c8eb8d877a3",
   "metadata": {},
   "outputs": [],
   "source": [
    "descr_df = describe_categoricals_by_numericals(df, 'animal', 'weight')"
   ]
  },
  {
   "cell_type": "markdown",
   "id": "22af384d-6166-4566-85bb-32a490ad9070",
   "metadata": {},
   "source": [
    "**Please see the plot below. If you implemented everything correctly, the code below will produce the same picture.**\n",
    "\n",
    "![](docs/output_file_3.png)"
   ]
  },
  {
   "cell_type": "code",
   "execution_count": 13,
   "id": "f06eb351-ff47-41b4-a44a-701878d07dbc",
   "metadata": {},
   "outputs": [],
   "source": [
    "q1 = descr_df.loc['Q1', :]\n",
    "q3 = descr_df.loc['Q3', :]\n",
    "iqr = q3 - q1\n",
    "assert np.allclose(descr_df.loc['lower', :], q1 - 1.5 * iqr)\n",
    "assert np.allclose(descr_df.loc['upper', :], q3 + 1.5 * iqr)"
   ]
  },
  {
   "cell_type": "code",
   "execution_count": 14,
   "id": "b3a71781-fe35-4ce2-9246-76c130a3ea75",
   "metadata": {},
   "outputs": [],
   "source": [
    "fig, ax = plt.subplots(figsize=(5,4))  \n",
    "ax.scatter(descr_df.columns.tolist(), descr_df.loc['Q1', :], marker='o', label='Q1')\n",
    "ax.scatter(descr_df.columns.tolist(), descr_df.loc['Q3', :], marker='o', label='Q3')\n",
    "ax.scatter(descr_df.columns.tolist(), descr_df.loc['median', :], marker='o', label='median')\n",
    "ax.legend()\n",
    "plt.show()"
   ]
  }
 ],
 "metadata": {
  "kernelspec": {
   "display_name": "Python 3 (ipykernel)",
   "language": "python",
   "name": "python3"
  },
  "language_info": {
   "codemirror_mode": {
    "name": "ipython",
    "version": 3
   },
   "file_extension": ".py",
   "mimetype": "text/x-python",
   "name": "python",
   "nbconvert_exporter": "python",
   "pygments_lexer": "ipython3",
   "version": "3.9.18"
  }
 },
 "nbformat": 4,
 "nbformat_minor": 5
}
