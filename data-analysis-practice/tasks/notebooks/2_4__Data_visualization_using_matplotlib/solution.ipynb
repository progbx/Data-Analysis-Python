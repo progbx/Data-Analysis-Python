{
 "cells": [
  {
   "cell_type": "markdown",
   "id": "fc51c7aa-6b5c-4fdc-a817-5b687050f30e",
   "metadata": {},
   "source": [
    "**Please take this task seriously because building plots will be a integral part of the end-to end project, which is the main component of this course.**"
   ]
  },
  {
   "cell_type": "markdown",
   "id": "da952d0e-5a76-4ec7-a8c1-75e24dcfe703",
   "metadata": {},
   "source": [
    "## Imports"
   ]
  },
  {
   "cell_type": "code",
   "execution_count": 1,
   "id": "93109d0c-9285-4215-a8ec-94d45e160da7",
   "metadata": {},
   "outputs": [],
   "source": [
    "import numpy as np\n",
    "import pandas as pd\n",
    "import math\n",
    "import random\n",
    "import matplotlib.pyplot as plt\n",
    "%matplotlib inline"
   ]
  },
  {
   "cell_type": "markdown",
   "id": "d096e9d9-a4d6-463f-9723-e8255ec0ce5a",
   "metadata": {},
   "source": [
    "## Task 1\n",
    "\n",
    "Create a figure object called `fig` using the `plt.figure()` method, and set the `figsize` parameter to `(7,7)`. Use the `fig.add_axes()` method to add axes to the figure canvas at `[0.05, 0.05, 0.9, 0.9]`. Call new axes `ax`. Save the resulting plot as a PDF file ('output_files/task_1.pdf').\n",
    "\n",
    "Plot the provided (x,y) data on axes and set the labels and titles to match the plot below:\n",
    "\n",
    "![](./docs/example_1.png)\n"
   ]
  },
  {
   "cell_type": "code",
   "execution_count": 2,
   "id": "432880c8-9bc0-4eb4-9728-669c4db2b9a2",
   "metadata": {},
   "outputs": [],
   "source": [
    "# Data for plotting\n",
    "x = np.arange(0, 10)\n",
    "y = x*2\n",
    "\n",
    "# Your code here\n",
    "fig = plt.figure(figsize=(7,7))\n",
    "ax = fig.add_axes([0.05, 0.05, 0.9, 0.9])\n",
    "ax.plot(x, y)\n",
    "ax.set_xlabel('X')\n",
    "ax.set_ylabel('My first plot!')\n",
    "plt.savefig('./output_files/task_1.pdf')"
   ]
  },
  {
   "cell_type": "markdown",
   "id": "27ec6c3c-397a-4443-bdfc-164a824bae53",
   "metadata": {},
   "source": [
    "## Task 2\n",
    "\n",
    "Create a figure and axes objects called `fig` and `ax` using the `plt.subplots()` method. Set the `figsize` parameter to `(7, 6)`. Plot three lines on the plot according to the following functions: $f(t) = t, f(t)=t^2, f(t)=t^3$, `t` is provided. Use different formatting styles for different lines. Save the resulting plot as a PDF file ('output_files/task_2.pdf').\n",
    "\n",
    "Try to reproduce the plot as shown below: \n",
    "\n",
    "![](./docs/example_2.png) \n",
    "\n",
    "Note: Try to plot all three lines in one command using `ax.plot()` with styling."
   ]
  },
  {
   "cell_type": "code",
   "execution_count": 3,
   "id": "e29f4b33-82c6-4cbe-93f5-3a9528fea866",
   "metadata": {},
   "outputs": [],
   "source": [
    "# Data for plotting\n",
    "t = np.arange(0., 5., 0.2)\n",
    "\n",
    "# Your code here\n",
    "# green dashes, blue squares and red triangles\n",
    "fig, ax = plt.subplots(figsize=(7, 6))\n",
    "ax.plot(t, t, 'g--', t, t**2, 'bs', t, t**3, 'r^')\n",
    "plt.savefig('./output_files/task_2.pdf')"
   ]
  },
  {
   "cell_type": "markdown",
   "id": "a3bb9949-eeaa-4f30-85d6-353b43a5b899",
   "metadata": {},
   "source": [
    "## Task 3\n",
    "\n",
    "Create a figure with two subplots using the `plt.subplots(nrows=1, ncols=2)` method. Data for the plots is provided - `x` for the x-axis, `y` and `z` for the y-axis in the first and the second plots, respectively. Save the resulting plot as a PDF file ('output_files/task_3.pdf').\n",
    "\n",
    "Try to reproduce the plot as shown below: \n",
    "\n",
    "![](./docs/example_3.png) "
   ]
  },
  {
   "cell_type": "code",
   "execution_count": 4,
   "id": "b4d920ed-75ad-47d0-a8ef-3dd3fd5fba6e",
   "metadata": {},
   "outputs": [],
   "source": [
    "# Data for plotting\n",
    "x = np.arange(0, 10)\n",
    "y = x*2\n",
    "z = x**2\n",
    "\n",
    "# Your code here\n",
    "fig, axes = plt.subplots(nrows=1, ncols=2)\n",
    "axes[0].plot(x, y)\n",
    "axes[1].plot(x, z)\n",
    "plt.savefig('./output_files/task_3.pdf')"
   ]
  },
  {
   "cell_type": "markdown",
   "id": "e4ebfcf8-9b66-4a0b-a37f-07cfaef0ce36",
   "metadata": {},
   "source": [
    "## Task 4\n",
    "\n",
    "Create a figure with one sinusoid plot. Data for the plots is provided - `t` is time, and `s` is voltage. Add the grid to the plot using `ax.grid()`. Save the resulting plot as a PDF file ('output_files/task_4.pdf').\n",
    "\n",
    "Plot (t,s) on that figure and set the labels and titles to match the plot below:\n",
    "\n",
    "![](./docs/example_4.png) "
   ]
  },
  {
   "cell_type": "code",
   "execution_count": 5,
   "id": "1682299c-6c06-4502-9f15-c44318e4ac4f",
   "metadata": {},
   "outputs": [],
   "source": [
    "# Data for plotting\n",
    "t = np.arange(0.0, 2.0, 0.01)\n",
    "s = 1 + np.sin(2 * np.pi * t)\n",
    "\n",
    "# Your code here\n",
    "fig, ax = plt.subplots()\n",
    "ax.plot(t, s)\n",
    "ax.set_xlabel('time (s)')\n",
    "ax.set_ylabel('voltage (mv)')\n",
    "ax.set_title('I can draw sinusoid!')\n",
    "ax.grid()\n",
    "plt.savefig('./output_files/task_4.pdf')"
   ]
  },
  {
   "cell_type": "markdown",
   "id": "12aa0c76-678f-4b26-9057-67fadb47aa29",
   "metadata": {},
   "source": [
    "## Task 5\n",
    "\n",
    "Create a bar plot of scores by group and gender. There are five groups, and in each group there are men and women. Data is provided in the following format: `men_means = (22, 30, 33, 30, 26)`, where the value at position `i` (starting from 1) represents the mean score for men in group `i`. Save the resulting plot as a PDF file ('output_files/task_5.pdf').\n",
    "\n",
    "Try to replicate the plot below as closely as possible:\n",
    "\n",
    "![](./docs/example_5.png) "
   ]
  },
  {
   "cell_type": "code",
   "execution_count": 6,
   "id": "09ad572c-16fc-4eee-b987-b20b96389c61",
   "metadata": {},
   "outputs": [],
   "source": [
    "# Data for plotting\n",
    "n_groups = 5\n",
    "men_means = (22, 30, 33, 30, 26)\n",
    "women_means = (25, 32, 30, 35, 29)\n",
    "\n",
    "# Your code here\n",
    "index = np.arange(n_groups)\n",
    "bar_width = 0.35\n",
    "opacity = 0.8\n",
    "\n",
    "fig, ax = plt.subplots()\n",
    "rects1 = ax.bar(index, men_means, bar_width, alpha=opacity, color='b', label='Men')\n",
    "rects2 = ax.bar(index + bar_width, women_means, bar_width, alpha=opacity, color='r', label='Women')\n",
    "\n",
    "ax.set_xlabel('Group')\n",
    "ax.set_ylabel('Scores')\n",
    "ax.set_title('Mean scores by group')\n",
    "ax.set_xticks(index + bar_width / 2)\n",
    "ax.set_xticklabels(('G1', 'G2', 'G3', 'G4', 'G5'))\n",
    "ax.legend()\n",
    "plt.savefig('./output_files/task_5.pdf')"
   ]
  },
  {
   "cell_type": "markdown",
   "id": "d89ccbad-e52e-4c6a-8e5e-e99d2b93ddc4",
   "metadata": {},
   "source": [
    "## Task 6\n",
    "\n",
    "Create a pie chart that shows the popularity of programming languages. Six languages and their popularity expressed in percentages are provided. Also, use the colors provided. Explode the Java slice. Save the resulting plot as a PDF file ('output_files/task_6.pdf').\n",
    "\n",
    "Try to replicate the plot below as closely as possible:\n",
    "\n",
    "![](./docs/example_6.png) "
   ]
  },
  {
   "cell_type": "code",
   "execution_count": 7,
   "id": "cd3e7d9b-5f9d-4209-9878-3db2b0bfc914",
   "metadata": {},
   "outputs": [],
   "source": [
    "# Data for plotting\n",
    "languages = 'Java', 'Python', 'PHP', 'JavaScript', 'C#', 'C++'\n",
    "popuratity = [22.2, 17.6, 8.8, 8, 7.7, 6.7]\n",
    "colors = [\"#1f77b4\", \"#ff7f0e\", \"#2ca02c\", \"#d62728\", \"#9467bd\", \"#8c564b\"]\n",
    "\n",
    "# Your code here\n",
    "explode = (0.1, 0, 0, 0, 0, 0)\n",
    "fig, ax = plt.subplots()\n",
    "ax.pie(popuratity, explode=explode, labels=languages, colors=colors, autopct='%1.1f%%', shadow=False, startangle=90)\n",
    "ax.axis('equal')\n",
    "plt.savefig('./output_files/task_6.pdf')"
   ]
  },
  {
   "cell_type": "markdown",
   "id": "408fac54-4fcd-4160-aa88-5eb62830146b",
   "metadata": {},
   "source": [
    "## Task 7\n",
    "\n",
    "Create a scatter plot using random distributions to generate balls of different sizes. The number of balls `no_of_balls`, coordinates `x` and `y`, colors `colors` and sizes `areas` are provided. Save the resulting plot as a PDF file ('output_files/task_7.pdf').\n",
    "\n",
    "Try to replicate the **style** of the plot below:\n",
    "\n",
    "![](./docs/example_7.png) "
   ]
  },
  {
   "cell_type": "code",
   "execution_count": 8,
   "id": "548e490b-a42d-4c9d-bb0e-2a6b2a0de308",
   "metadata": {},
   "outputs": [],
   "source": [
    "# create random data\n",
    "no_of_balls = 25\n",
    "x = [random.triangular() for i in range(no_of_balls)]\n",
    "y = [random.gauss(0.5, 0.25) for i in range(no_of_balls)]\n",
    "colors = [random.randint(1, 4) for i in range(no_of_balls)]\n",
    "areas = [math.pi * random.randint(5, 15)**2 for i in range(no_of_balls)]\n",
    "\n",
    "# Your code here\n",
    "fig, ax = plt.subplots()\n",
    "ax.scatter(x, y, s=areas, c=colors, alpha=0.85)\n",
    "ax.set_xlabel('X')\n",
    "ax.set_ylabel('Y')\n",
    "plt.savefig('./output_files/task_7.pdf')"
   ]
  },
  {
   "cell_type": "markdown",
   "id": "3d0a6d7e-1774-4050-98be-178b9e3d6e3a",
   "metadata": {},
   "source": [
    "## Task 8\n",
    "\n",
    "Draw a scatter plot to find the rise in sea level in the past 100 years. Read the data from the CSV file `./source_files/epa-sea-level.csv` as a pandas DataFrame. Use the `Year` and `CSIRO Adjusted Sea Level` columns as scatter plot input. Save the resulting plot as a PDF file ('output_files/task_8.pdf').\n",
    "\n",
    "Try to replicate the plot below as closely as possible:\n",
    "\n",
    "![](./docs/example_8.png) "
   ]
  },
  {
   "cell_type": "code",
   "execution_count": 9,
   "id": "be6a62b8-4319-43dd-af19-100a3ab02412",
   "metadata": {},
   "outputs": [],
   "source": [
    "# Data for plotting\n",
    "# Your code here\n",
    "df = pd.read_csv('./source_files/epa-sea-level.csv')\n",
    "fig, ax = plt.subplots()\n",
    "ax.scatter(x=df['Year'], y=df['CSIRO Adjusted Sea Level'])\n",
    "ax.set_xlabel('Year')\n",
    "ax.set_ylabel('Sea Level (inches)')\n",
    "ax.set_title('Rise in Sealevel')\n",
    "plt.savefig('./output_files/task_8.pdf')"
   ]
  }
 ],
 "metadata": {
  "kernelspec": {
   "display_name": "Python 3 (ipykernel)",
   "language": "python",
   "name": "python3"
  },
  "language_info": {
   "codemirror_mode": {
    "name": "ipython",
    "version": 3
   },
   "file_extension": ".py",
   "mimetype": "text/x-python",
   "name": "python",
   "nbconvert_exporter": "python",
   "pygments_lexer": "ipython3",
   "version": "3.9.18"
  },
  "toc": {
   "base_numbering": 1,
   "nav_menu": {},
   "number_sections": true,
   "sideBar": true,
   "skip_h1_title": false,
   "title_cell": "Table of Contents",
   "title_sidebar": "Contents",
   "toc_cell": false,
   "toc_position": {},
   "toc_section_display": true,
   "toc_window_display": false
  }
 },
 "nbformat": 4,
 "nbformat_minor": 5
}
